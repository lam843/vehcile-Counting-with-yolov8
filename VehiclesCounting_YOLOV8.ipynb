{
  "nbformat": 4,
  "nbformat_minor": 0,
  "metadata": {
    "colab": {
      "provenance": []
    },
    "kernelspec": {
      "name": "python3",
      "display_name": "Python 3"
    },
    "language_info": {
      "name": "python"
    }
  },
  "cells": [
    {
      "cell_type": "markdown",
      "source": [
        "# **Installation et Importation des librairies**"
      ],
      "metadata": {
        "id": "dKqBTuiGZh1q"
      }
    },
    {
      "cell_type": "code",
      "execution_count": null,
      "metadata": {
        "id": "MeIws4XI2PhN"
      },
      "outputs": [],
      "source": [
        "!pip install ultralytics"
      ]
    },
    {
      "cell_type": "code",
      "source": [
        "from ultralytics import YOLO\n",
        "from ultralytics.solutions import object_counter, speed_estimation\n",
        "import cv2\n",
        "from google.colab.patches import cv2_imshow\n",
        "import numpy as np"
      ],
      "metadata": {
        "id": "K9fanmfj2dmh"
      },
      "execution_count": null,
      "outputs": []
    },
    {
      "cell_type": "markdown",
      "source": [
        "# **Telechagrement du model Non pretrained**"
      ],
      "metadata": {
        "id": "Sxc1sqJIZuUS"
      }
    },
    {
      "cell_type": "code",
      "source": [
        "#model=YOLO()"
      ],
      "metadata": {
        "id": "tkisyWeJZ62y"
      },
      "execution_count": null,
      "outputs": []
    },
    {
      "cell_type": "code",
      "source": [
        "model=YOLO('yolov8n.pt')\n",
        "###########/content/drive/MyDrive/Projet_DL/Vehicles-416x416/runs/detect/train9/weights/best.pt"
      ],
      "metadata": {
        "id": "3TfvQo0n22y2"
      },
      "execution_count": null,
      "outputs": []
    },
    {
      "cell_type": "markdown",
      "source": [
        "# **Importation du jeu de donnees des vehicles**"
      ],
      "metadata": {
        "id": "s_04ETwFaMX2"
      }
    },
    {
      "cell_type": "code",
      "source": [
        "#dataset=\"/content/drive/MyDrive/Projet_DL/Vehicles-416x416\""
      ],
      "metadata": {
        "id": "ru128nUIaReb"
      },
      "execution_count": null,
      "outputs": []
    },
    {
      "cell_type": "markdown",
      "source": [
        "# **Entrainement du model sur notre dataset en utilisant 10 epochs**"
      ],
      "metadata": {
        "id": "zRD9oYj4aVpA"
      }
    },
    {
      "cell_type": "code",
      "source": [
        "#results=model.train(data=\"/content/drive/MyDrive/Projet_DL/Vehicles-416x416/data.yaml\",epochs=10)"
      ],
      "metadata": {
        "id": "CRoCfXsjaZ4I"
      },
      "execution_count": null,
      "outputs": []
    },
    {
      "cell_type": "markdown",
      "source": [
        "# **copy le model vers drive et save it**"
      ],
      "metadata": {
        "id": "q-hbPWW-adGj"
      }
    },
    {
      "cell_type": "code",
      "source": [
        "#!cp -r /content/runs \"$dataset\""
      ],
      "metadata": {
        "id": "VBh6UwK9ahrc"
      },
      "execution_count": null,
      "outputs": []
    },
    {
      "cell_type": "markdown",
      "source": [
        "# **Saved model**"
      ],
      "metadata": {
        "id": "Ru_moxPXfP68"
      }
    },
    {
      "cell_type": "code",
      "source": [
        "#model_path=\"/content/drive/MyDrive/Projet_DL/Vehicles-416x416/runs/detect/train9/weights/best.pt\""
      ],
      "metadata": {
        "id": "mrkMkBttfTfA"
      },
      "execution_count": null,
      "outputs": []
    },
    {
      "cell_type": "code",
      "source": [
        "#model=YOLO(model_path)"
      ],
      "metadata": {
        "id": "QkzAMsbdfUfT"
      },
      "execution_count": null,
      "outputs": []
    },
    {
      "cell_type": "markdown",
      "source": [
        "# **Test sur une image et un video a l'aide d'une commande**\n",
        "\n",
        "\n",
        "1.   Test d'une image\n",
        "2.   Test d'une video\n",
        "\n"
      ],
      "metadata": {
        "id": "8mlDAWSWaj89"
      }
    },
    {
      "cell_type": "code",
      "source": [
        "#!yolo task=detect mode=predict model=\"/content/drive/MyDrive/Projet_DL/Vehicles-416x416/runs/detect/train9/weights/best.pt\" source=\"/content/WhatsApp Image 2024-01-07 at 21.01.48.jpeg\" conf=0.5"
      ],
      "metadata": {
        "id": "C-yXgciJaoPh"
      },
      "execution_count": null,
      "outputs": []
    },
    {
      "cell_type": "code",
      "source": [
        "#!yolo task=detect mode=predict model=\"/content/drive/MyDrive/Projet_DL/Vehicles-416x416/runs/detect/train9/weights/best.pt\" source=\"/content/drive/MyDrive/Projet_DL/Vehicles-416x416/video/videoTest.mp4\" conf=0.5"
      ],
      "metadata": {
        "id": "Rx75bszKa3Jc"
      },
      "execution_count": null,
      "outputs": []
    },
    {
      "cell_type": "markdown",
      "source": [
        "# **Tracking et counting a l'aide du YOLOV8**\n",
        "\n",
        "\n",
        "1.   lien vers la video du test\n",
        "2.   La fonction du tracking\n",
        "3.    Define line points for both object counter && speed estimation\n",
        "4.   Initialize Object Counter\n",
        "5.   Initialize Speed Estimation\n",
        "\n"
      ],
      "metadata": {
        "id": "RVMs3HVva61O"
      }
    },
    {
      "cell_type": "code",
      "source": [
        "names = model.model.names"
      ],
      "metadata": {
        "id": "YaeU3rMhnffI"
      },
      "execution_count": null,
      "outputs": []
    },
    {
      "cell_type": "code",
      "source": [
        "video_path='/content/test_video.mp4'\n",
        "#/content/drive/MyDrive/Projet_DL/Vehicles-416x416/video/videoTest.mp4\n",
        "#/content/test_video.mp4"
      ],
      "metadata": {
        "id": "rdSSPBWN29AN"
      },
      "execution_count": null,
      "outputs": []
    },
    {
      "cell_type": "code",
      "source": [
        "# Open the video file for reading\n",
        "cap=cv2.VideoCapture(video_path)"
      ],
      "metadata": {
        "id": "AXK51ESP3Smk"
      },
      "execution_count": null,
      "outputs": []
    },
    {
      "cell_type": "code",
      "source": [
        "assert cap.isOpened(), \"Error reading video file\"\n",
        "w, h, fps = (int(cap.get(x)) for x in (cv2.CAP_PROP_FRAME_WIDTH, cv2.CAP_PROP_FRAME_HEIGHT, cv2.CAP_PROP_FPS))\n",
        "# Video writer\n",
        "video_writer = cv2.VideoWriter(\"speed_countAAss.mp4\",cv2.VideoWriter_fourcc(*'mp4v'),fps,(w, h))"
      ],
      "metadata": {
        "id": "u-8hXOmxcqO-"
      },
      "execution_count": null,
      "outputs": []
    },
    {
      "cell_type": "code",
      "source": [
        "line_points = [(20, 400), (1080, 400)]  # line or region points line_points =  [(0, 360), (1280, 360)]\n",
        "classes_to_count = [2,5,7 ]  # 7track and 2car,5 bus classes for count"
      ],
      "metadata": {
        "id": "fU6omPKwe5rt"
      },
      "execution_count": null,
      "outputs": []
    },
    {
      "cell_type": "code",
      "source": [
        "# Define region points for speed estimation\n",
        "speed_estimation_line_pts = [(0, 400), (1280, 400)]"
      ],
      "metadata": {
        "id": "aPuR7jLke8AG"
      },
      "execution_count": null,
      "outputs": []
    },
    {
      "cell_type": "code",
      "source": [
        "# Initialize Object Counter\n",
        "counter = object_counter.ObjectCounter()\n",
        "counter.set_args(view_img=True,reg_pts=line_points,classes_names=model.names,draw_tracks=True)"
      ],
      "metadata": {
        "colab": {
          "base_uri": "https://localhost:8080/"
        },
        "id": "EX6GyG5zdg8D",
        "outputId": "48cb01c6-29b2-4b3f-8701-88dfc5c1c991"
      },
      "execution_count": null,
      "outputs": [
        {
          "output_type": "stream",
          "name": "stdout",
          "text": [
            "WARNING ⚠️ Environment does not support cv2.imshow() or PIL Image.show()\n",
            "\n",
            "Line Counter Initiated.\n"
          ]
        }
      ]
    },
    {
      "cell_type": "code",
      "source": [
        "# Initialize Speed Estimation\n",
        "speed_obj = speed_estimation.SpeedEstimator()\n",
        "speed_obj.set_args(reg_pts=speed_estimation_line_pts, names=names, view_img=True)"
      ],
      "metadata": {
        "colab": {
          "base_uri": "https://localhost:8080/"
        },
        "id": "NKYvWC_xdjgI",
        "outputId": "ff7d65d5-5095-4fa2-c854-229713592163"
      },
      "execution_count": null,
      "outputs": [
        {
          "output_type": "stream",
          "name": "stdout",
          "text": [
            "WARNING ⚠️ Environment does not support cv2.imshow() or PIL Image.show()\n",
            "\n"
          ]
        }
      ]
    },
    {
      "cell_type": "code",
      "source": [
        "while cap.isOpened():\n",
        "    success, im0 = cap.read()\n",
        "    if not success:\n",
        "        print(\"Video frame is empty or video processing has been successfully completed.\")\n",
        "        break\n",
        "\n",
        "    # Detect and track objects\n",
        "    tracks = model.track(im0, persist=True, show=False)\n",
        "\n",
        "    # Perform object counting\n",
        "    im0 = counter.start_counting(im0, tracks)\n",
        "\n",
        "    # Perform speed estimation\n",
        "    #im0 = speed_obj.estimate_speed(im0, tracks)\n",
        "\n",
        "    # Write the frame to the output video file\n",
        "    video_writer.write(im0)\n",
        "\n",
        "# Release resources\n",
        "cap.release()\n",
        "video_writer.release()\n",
        "cv2.destroyAllWindows()\n"
      ],
      "metadata": {
        "id": "IN9PtbwjbbK8"
      },
      "execution_count": null,
      "outputs": []
    },
    {
      "cell_type": "markdown",
      "source": [
        "#**FIN**"
      ],
      "metadata": {
        "id": "K40jbthhkVYw"
      }
    }
  ]
}